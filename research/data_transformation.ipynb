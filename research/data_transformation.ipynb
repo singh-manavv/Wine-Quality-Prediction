{
 "cells": [
  {
   "cell_type": "code",
   "execution_count": 1,
   "metadata": {},
   "outputs": [],
   "source": [
    "import os"
   ]
  },
  {
   "cell_type": "code",
   "execution_count": 2,
   "metadata": {},
   "outputs": [
    {
     "data": {
      "text/plain": [
       "'d:\\\\Manav\\\\Projects\\\\Wine-Quality-Prediction\\\\research'"
      ]
     },
     "execution_count": 2,
     "metadata": {},
     "output_type": "execute_result"
    }
   ],
   "source": [
    "%pwd"
   ]
  },
  {
   "cell_type": "code",
   "execution_count": 3,
   "metadata": {},
   "outputs": [],
   "source": [
    "os.chdir('../')"
   ]
  },
  {
   "cell_type": "code",
   "execution_count": 4,
   "metadata": {},
   "outputs": [
    {
     "data": {
      "text/plain": [
       "'d:\\\\Manav\\\\Projects\\\\Wine-Quality-Prediction'"
      ]
     },
     "execution_count": 4,
     "metadata": {},
     "output_type": "execute_result"
    }
   ],
   "source": [
    "%pwd"
   ]
  },
  {
   "cell_type": "code",
   "execution_count": 6,
   "metadata": {},
   "outputs": [],
   "source": [
    "from dataclasses import dataclass\n",
    "from pathlib import Path\n",
    "\n",
    "@dataclass(frozen=True)\n",
    "class DataTransformationConfig:\n",
    "    root_dir: Path\n",
    "    data_path: Path"
   ]
  },
  {
   "cell_type": "code",
   "execution_count": 8,
   "metadata": {},
   "outputs": [],
   "source": [
    "from wineQuality.constants import *\n",
    "from wineQuality.utils import read_yaml, create_directories"
   ]
  },
  {
   "cell_type": "code",
   "execution_count": 9,
   "metadata": {},
   "outputs": [],
   "source": [
    "class ConfigurationManager:\n",
    "    def __init__(self,\n",
    "                config_filepath= CONFIG_FILE_PATH,\n",
    "                params_filepath= PARAMS_FILE_PATH,\n",
    "                schemas_filepath= SCHEMAS_FILE_PATH):\n",
    "\n",
    "                self.config = read_yaml(config_filepath)\n",
    "                self.params = read_yaml(params_filepath)\n",
    "                self.schemas = read_yaml(schemas_filepath)\n",
    "                \n",
    "                create_directories([self.config.artifacts_root])\n",
    "    \n",
    "    def get_data_transformation_config(self) -> DataTransformationConfig:\n",
    "        config = self.config.data_transformation\n",
    "        \n",
    "        create_directories([config.root_dir])\n",
    "        \n",
    "        data_transformation_config = DataTransformationConfig(\n",
    "            root_dir= config.root_dir,\n",
    "            data_path= config.data_path\n",
    "        )\n",
    "        \n",
    "        return data_transformation_config"
   ]
  },
  {
   "cell_type": "code",
   "execution_count": 10,
   "metadata": {},
   "outputs": [],
   "source": [
    "import os\n",
    "from wineQuality import logger\n",
    "from sklearn.model_selection import train_test_split\n",
    "import pandas as pd"
   ]
  },
  {
   "cell_type": "code",
   "execution_count": 11,
   "metadata": {},
   "outputs": [],
   "source": [
    "class DataTransformation:\n",
    "    def __init__(self,config: DataTransformationConfig):\n",
    "        self.config = config\n",
    "    \n",
    "    def splitting_data(self):\n",
    "        data = pd.read_csv(self.config.data_path)\n",
    "        \n",
    "        train_set, test_set = train_test_split(data,test_size=0.2,random_state=42)\n",
    "        \n",
    "        train_set.to_csv(os.path.join(self.config.root_dir, 'train.csv'), index=False)\n",
    "        test_set.to_csv(os.path.join(self.config.root_dir, 'test.csv'), index=False)\n",
    "        \n",
    "        logger.info('Data splitted into Training and test sets')\n",
    "        logger.info(f'Train Data shape: {train_set.shape}')\n",
    "        logger.info(f'Test Data shape: {test_set.shape}')"
   ]
  },
  {
   "cell_type": "code",
   "execution_count": 12,
   "metadata": {},
   "outputs": [
    {
     "name": "stdout",
     "output_type": "stream",
     "text": [
      "[2024-03-01 15:52:22,791: INFO: common: yaml file: config\\config.yaml loaded successfully]\n",
      "[2024-03-01 15:52:22,799: INFO: common: yaml file: params.yaml loaded successfully]\n",
      "[2024-03-01 15:52:22,806: INFO: common: yaml file: schemas.yaml loaded successfully]\n",
      "[2024-03-01 15:52:22,807: INFO: common: created directory at: artifacts]\n",
      "[2024-03-01 15:52:22,808: INFO: common: created directory at: artifacts/data_transformation]\n",
      "[2024-03-01 15:52:22,851: INFO: 2080335757: Data splitted into Training and test sets]\n",
      "[2024-03-01 15:52:22,852: INFO: 2080335757: Train Data shape: (914, 13)]\n",
      "[2024-03-01 15:52:22,853: INFO: 2080335757: Test Data shape: (229, 13)]\n"
     ]
    }
   ],
   "source": [
    "try:\n",
    "    config = ConfigurationManager()\n",
    "    data_transformation_config = config.get_data_transformation_config()\n",
    "    data_transformation = DataTransformation(config=data_transformation_config)\n",
    "    data_transformation.splitting_data()\n",
    "except Exception as e:\n",
    "    raise e"
   ]
  },
  {
   "cell_type": "code",
   "execution_count": null,
   "metadata": {},
   "outputs": [],
   "source": []
  }
 ],
 "metadata": {
  "kernelspec": {
   "display_name": "venv",
   "language": "python",
   "name": "python3"
  },
  "language_info": {
   "codemirror_mode": {
    "name": "ipython",
    "version": 3
   },
   "file_extension": ".py",
   "mimetype": "text/x-python",
   "name": "python",
   "nbconvert_exporter": "python",
   "pygments_lexer": "ipython3",
   "version": "3.11.7"
  }
 },
 "nbformat": 4,
 "nbformat_minor": 2
}
